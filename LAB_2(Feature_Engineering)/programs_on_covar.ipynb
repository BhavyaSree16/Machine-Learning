{
  "nbformat": 4,
  "nbformat_minor": 0,
  "metadata": {
    "colab": {
      "provenance": []
    },
    "kernelspec": {
      "name": "python3",
      "display_name": "Python 3"
    },
    "language_info": {
      "name": "python"
    }
  },
  "cells": [
    {
      "cell_type": "markdown",
      "source": [
        "Create a vector (array) of 1XN dimension representing N-\n",
        "dimensional feature vector of a sample. Write a program to\n",
        "\n",
        "compute the mean and variance of the elements present in the\n",
        "array."
      ],
      "metadata": {
        "id": "xI7H1i9gD8eX"
      }
    },
    {
      "cell_type": "code",
      "execution_count": 1,
      "metadata": {
        "colab": {
          "base_uri": "https://localhost:8080/"
        },
        "id": "yEOpbM7i-y6d",
        "outputId": "409bcc12-4565-49fb-d89e-ff0552d05b98"
      },
      "outputs": [
        {
          "output_type": "stream",
          "name": "stdout",
          "text": [
            "Vector (1xN): [0.77311779 0.97922125 0.53486162 0.46857451 0.98334797 0.84443039\n",
            " 0.51094944 0.05814383 0.32039945 0.06331976]\n",
            "Mean of the vector: 0.5536366014405572\n",
            "Variance of the vector: 0.10482406818565035\n"
          ]
        }
      ],
      "source": [
        "import numpy as np\n",
        "\n",
        "def compute_mean_and_variance(vector):\n",
        "    mean = np.mean(vector)\n",
        "    variance = np.var(vector)\n",
        "    return mean, variance\n",
        "\n",
        "N = 10\n",
        "vector = np.random.rand(N)\n",
        "\n",
        "mean, variance = compute_mean_and_variance(vector)\n",
        "print(\"Vector (1xN):\", vector)\n",
        "print(\"Mean of the vector:\", mean)\n",
        "print(\"Variance of the vector:\", variance)\n"
      ]
    },
    {
      "cell_type": "markdown",
      "source": [
        "Create two vectors each of dimension 1XM each representing N-\n",
        "dimensional feature vector of a sample. Write a program to\n",
        "\n",
        "compute the Covariance between them."
      ],
      "metadata": {
        "id": "Sg6aLcO7EG6s"
      }
    },
    {
      "cell_type": "code",
      "source": [
        "import numpy as np\n",
        "def covarience(vector1,vector2):\n",
        "    cov=np.cov(vector1,vector2)\n",
        "    return cov\n",
        "N = 5\n",
        "vector1 = np.random.rand(N)\n",
        "vector2 = np.random.rand(N)\n",
        "cov=covarience(vector1,vector2)\n",
        "print(\"Vector 1:\", vector1)\n",
        "print(\"Vector 2:\", vector2)\n",
        "print(cov)"
      ],
      "metadata": {
        "colab": {
          "base_uri": "https://localhost:8080/"
        },
        "id": "ZeFmBv4WEGQt",
        "outputId": "3d7bc302-7133-4002-cc4d-f5a3a9324c19"
      },
      "execution_count": 2,
      "outputs": [
        {
          "output_type": "stream",
          "name": "stdout",
          "text": [
            "Vector 1: [0.23086409 0.83640457 0.22811094 0.62533549 0.06931593]\n",
            "Vector 2: [0.74080488 0.76410482 0.51489251 0.80441054 0.42419257]\n",
            "[[0.10217748 0.04178073]\n",
            " [0.04178073 0.02858764]]\n"
          ]
        }
      ]
    },
    {
      "cell_type": "markdown",
      "source": [
        "Create two vectors each of dimension 1XN. Write a program to\n",
        "compute the Correlation between them."
      ],
      "metadata": {
        "id": "AVpwHtc5GjW_"
      }
    },
    {
      "cell_type": "code",
      "source": [
        "import numpy as np\n",
        "def correlation(vector1,vector2):\n",
        "    corr=np.corrcoef(vector1,vector2)\n",
        "    return corr\n",
        "N = 5\n",
        "vector1= np.random.rand(N)\n",
        "vector2= np.random.rand(N)\n",
        "corr=correlation(vector1,vector2)\n",
        "print(\"Vector 1:\", vector1)\n",
        "print(\"Vector 2:\", vector2)\n",
        "print(corr)"
      ],
      "metadata": {
        "colab": {
          "base_uri": "https://localhost:8080/"
        },
        "id": "YHGTIKR5GkcZ",
        "outputId": "9cf41595-aa0f-4628-e2b8-d15589b49cec"
      },
      "execution_count": 3,
      "outputs": [
        {
          "output_type": "stream",
          "name": "stdout",
          "text": [
            "Vector 1: [0.14730127 0.78745147 0.29933772 0.56760821 0.45449168]\n",
            "Vector 2: [0.41927532 0.15929474 0.5422131  0.77482673 0.19619056]\n",
            "[[ 1.         -0.26139776]\n",
            " [-0.26139776  1.        ]]\n"
          ]
        }
      ]
    },
    {
      "cell_type": "markdown",
      "source": [
        "Create a Matrix of MXN dimension representing the M-dimensional\n",
        "feature vector for N number of samples i. e (i,j)th entry of the matrix\n",
        "represents the ith feature of jth sample. Write a program to compute\n",
        "the covariance matrix and correlation matrix. Comment on\n",
        "takeaways from these matrixes."
      ],
      "metadata": {
        "id": "5aECNuAnHFti"
      }
    },
    {
      "cell_type": "code",
      "source": [
        "import numpy as np\n",
        "M = 5\n",
        "N = 3\n",
        "matrix = np.random.rand(M,N)\n",
        "cov_matrix = np.cov(matrix)\n",
        "corr_matrix = np.corrcoef(matrix)\n",
        "print(\"Matrix (MXN):\", matrix)\n",
        "print(\"Covariance Matrix:\")\n",
        "print(cov_matrix)\n",
        "print(\"Correlation Matrix:\")\n",
        "print(corr_matrix)\n"
      ],
      "metadata": {
        "colab": {
          "base_uri": "https://localhost:8080/"
        },
        "id": "wr3fgEdLHJbI",
        "outputId": "b54fce07-b6ad-468d-a548-a194a8206c72"
      },
      "execution_count": 4,
      "outputs": [
        {
          "output_type": "stream",
          "name": "stdout",
          "text": [
            "Matrix (MXN): [[0.15030755 0.06938185 0.32363507]\n",
            " [0.67191889 0.89219399 0.44583362]\n",
            " [0.02191132 0.89687688 0.67343345]\n",
            " [0.8497295  0.23681402 0.53619414]\n",
            " [0.22020698 0.30528491 0.30645216]]\n",
            "Covariance Matrix:\n",
            "[[ 0.01687268 -0.02841688 -0.00244861  0.01189578  0.00139341]\n",
            " [-0.02841688  0.04981221  0.02419498 -0.03295929 -0.00021321]\n",
            " [-0.00244861  0.02419498  0.20666213 -0.13457495  0.02172835]\n",
            " [ 0.01189578 -0.03295929 -0.13457495  0.09393304 -0.01313951]\n",
            " [ 0.00139341 -0.00021321  0.02172835 -0.01313951  0.00244631]]\n",
            "Correlation Matrix:\n",
            "[[ 1.         -0.98020387 -0.04146654  0.29880754  0.21688564]\n",
            " [-0.98020387  1.          0.23846621 -0.48183761 -0.01931408]\n",
            " [-0.04146654  0.23846621  1.         -0.9658831   0.96636389]\n",
            " [ 0.29880754 -0.48183761 -0.9658831   1.         -0.86679083]\n",
            " [ 0.21688564 -0.01931408  0.96636389 -0.86679083  1.        ]]\n"
          ]
        }
      ]
    }
  ]
}